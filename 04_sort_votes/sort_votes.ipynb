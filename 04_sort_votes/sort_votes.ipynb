{
 "cells": [
  {
   "cell_type": "markdown",
   "id": "1f2fab85",
   "metadata": {},
   "source": [
    "## Sort the votes by increasing Rice index"
   ]
  },
  {
   "cell_type": "code",
   "execution_count": null,
   "id": "7db650ce",
   "metadata": {},
   "outputs": [],
   "source": [
    "import pandas as pd"
   ]
  },
  {
   "cell_type": "markdown",
   "id": "7815d395",
   "metadata": {},
   "source": [
    "#### Load the csv votes as a dataframe"
   ]
  },
  {
   "cell_type": "code",
   "execution_count": null,
   "id": "356d446b",
   "metadata": {},
   "outputs": [],
   "source": [
    "# Load the votes (change the path if you want to sort another kind of votes)\n",
    "\n",
    "INPATH = \"../processed_data/votes_finaux.csv\"\n",
    "votes = pd.read_csv(INPATH)\n",
    "\n",
    "# Specify the output path (the results will be stored there)\n",
    "\n",
    "OUTPATH = \"../processed_data/votes_finaux_sorted_RI.csv\""
   ]
  },
  {
   "cell_type": "markdown",
   "id": "dfea59c1",
   "metadata": {},
   "source": [
    "#### Compute the Rice index of each vote and add it as a new column \"Rice index\" of the `votes` dataframe. Then sort the votes according to the Rice index."
   ]
  },
  {
   "cell_type": "code",
   "execution_count": null,
   "id": "ff6472c4",
   "metadata": {},
   "outputs": [],
   "source": [
    "# Auxiliary functions\n",
    "    \n",
    "def count(string, row):\n",
    "    \"\"\" Count the number of occurrences of `string` in the row \"\"\"\n",
    "    \n",
    "    if row.str.contains(string).any():\n",
    "        return row.value_counts()[string]\n",
    "    else:\n",
    "        return 0\n",
    "\n",
    "\n",
    "def rice_index(row):\n",
    "    \"\"\" Compute the Rice index of the row \"\"\"\n",
    "    \n",
    "    count_yes = count('Oui', row)\n",
    "    count_no = count('Non', row)\n",
    "    return abs(count_yes - count_no) / (count_yes + count_no)\n",
    "\n",
    "\n",
    "# Compute the rice index of each vote and sort the votes accordingly\n",
    "\n",
    "rice_indices = votes.apply(lambda row: rice_index(row), axis=1)\n",
    "votes.insert(0, 'Rice index', rice_indices)\n",
    "votes = votes.sort_values('Rice index')"
   ]
  },
  {
   "cell_type": "markdown",
   "id": "b20e19e4",
   "metadata": {},
   "source": [
    "#### Sorted votes"
   ]
  },
  {
   "cell_type": "code",
   "execution_count": null,
   "id": "ca75d0df",
   "metadata": {},
   "outputs": [],
   "source": [
    "votes"
   ]
  },
  {
   "cell_type": "markdown",
   "id": "cbd400a0",
   "metadata": {},
   "source": [
    "#### Export the sorted votes \n",
    "\n",
    "Run the cell below to export the votes sorted by Rice index"
   ]
  },
  {
   "cell_type": "code",
   "execution_count": null,
   "id": "d239ad2a",
   "metadata": {},
   "outputs": [],
   "source": [
    "votes.to_csv(OUTPATH)\n",
    "print(f\"Results stored in {OUTPATH}\")"
   ]
  }
 ],
 "metadata": {
  "kernelspec": {
   "display_name": "Python 3 (ipykernel)",
   "language": "python",
   "name": "python3"
  },
  "language_info": {
   "codemirror_mode": {
    "name": "ipython",
    "version": 3
   },
   "file_extension": ".py",
   "mimetype": "text/x-python",
   "name": "python",
   "nbconvert_exporter": "python",
   "pygments_lexer": "ipython3",
   "version": "3.9.12"
  }
 },
 "nbformat": 4,
 "nbformat_minor": 5
}
