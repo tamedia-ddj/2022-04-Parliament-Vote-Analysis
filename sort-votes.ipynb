{
 "cells": [
  {
   "cell_type": "markdown",
   "id": "82f507bd",
   "metadata": {},
   "source": [
    "# Sort the votes by increasing Rice index"
   ]
  },
  {
   "cell_type": "code",
   "execution_count": null,
   "id": "15c90a6c",
   "metadata": {},
   "outputs": [],
   "source": [
    "import pandas as pd"
   ]
  },
  {
   "cell_type": "markdown",
   "id": "cb1906ef",
   "metadata": {},
   "source": [
    "#### Load the csv votes as a dataframe\n",
    "\n",
    "Do not specify the extension `.csv` in the variable `PATH`."
   ]
  },
  {
   "cell_type": "code",
   "execution_count": null,
   "id": "ec06e6eb",
   "metadata": {},
   "outputs": [],
   "source": [
    "# Load the votes (change the path if you want to sort another kind of votes)\n",
    "\n",
    "PATH = \"votes\"\n",
    "votes = pd.read_csv(f\"{PATH}.csv\")"
   ]
  },
  {
   "cell_type": "markdown",
   "id": "4bda8ce7",
   "metadata": {},
   "source": [
    "#### Compute the Rice index of each vote and add it as a new column \"Rice index\" of the `votes` dataframe. Then sort the votes according to the Rice index."
   ]
  },
  {
   "cell_type": "code",
   "execution_count": null,
   "id": "3b1c89bc",
   "metadata": {},
   "outputs": [],
   "source": [
    "# Auxiliary functions\n",
    "    \n",
    "def count(string, row):\n",
    "    \"\"\" Count the number of occurrences of `string` in the row \"\"\"\n",
    "    \n",
    "    if row.str.contains(string).any():\n",
    "        return row.value_counts()[string]\n",
    "    else:\n",
    "        return 0\n",
    "\n",
    "\n",
    "def rice_index(row):\n",
    "    \"\"\" Compute the Rice index of the row \"\"\"\n",
    "    \n",
    "    count_yes = count('Oui', row)\n",
    "    count_no = count('Non', row)\n",
    "    return abs(count_yes - count_no) / (count_yes + count_no)\n",
    "\n",
    "\n",
    "# Compute the rice index of each vote and sort the votes accordingly\n",
    "\n",
    "rice_indices = votes.apply(lambda row: rice_index(row), axis=1)\n",
    "votes.insert(0, 'Rice index', rice_indices)\n",
    "votes = votes.sort_values('Rice index')"
   ]
  },
  {
   "cell_type": "markdown",
   "id": "b0e5eb20",
   "metadata": {},
   "source": [
    "#### Sorted votes"
   ]
  },
  {
   "cell_type": "code",
   "execution_count": null,
   "id": "ea24ec3b",
   "metadata": {},
   "outputs": [],
   "source": [
    "votes"
   ]
  },
  {
   "cell_type": "markdown",
   "id": "f5a32f84",
   "metadata": {},
   "source": [
    "#### Export the sorted votes \n",
    "\n",
    "Run the cell below to export the votes sorted by Rice index"
   ]
  },
  {
   "cell_type": "code",
   "execution_count": null,
   "id": "ce27c45c",
   "metadata": {},
   "outputs": [],
   "source": [
    "OUTPATH = f\"{PATH}-sorted-RI.csv\"\n",
    "votes.to_csv(OUTPATH)\n",
    "\n",
    "print(f\"Results stored in {OUTPATH}\")"
   ]
  }
 ],
 "metadata": {
  "kernelspec": {
   "display_name": "Python 3 (ipykernel)",
   "language": "python",
   "name": "python3"
  },
  "language_info": {
   "codemirror_mode": {
    "name": "ipython",
    "version": 3
   },
   "file_extension": ".py",
   "mimetype": "text/x-python",
   "name": "python",
   "nbconvert_exporter": "python",
   "pygments_lexer": "ipython3",
   "version": "3.9.7"
  }
 },
 "nbformat": 4,
 "nbformat_minor": 5
}
