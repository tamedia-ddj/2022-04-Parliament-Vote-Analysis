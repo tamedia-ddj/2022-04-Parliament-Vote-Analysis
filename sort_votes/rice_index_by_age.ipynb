{
 "cells": [
  {
   "cell_type": "markdown",
   "id": "23ff0caa",
   "metadata": {},
   "source": [
    "# Compute the Rice index of the votes by age range"
   ]
  },
  {
   "cell_type": "code",
   "execution_count": null,
   "id": "dea277aa",
   "metadata": {},
   "outputs": [],
   "source": [
    "import pandas as pd"
   ]
  },
  {
   "cell_type": "code",
   "execution_count": null,
   "id": "685104b1",
   "metadata": {},
   "outputs": [],
   "source": [
    "INPATH_MP = \"../processed_data/parlementaires.csv\"\n",
    "INPATH_VOTES = \"../processed_data/votes_finaux.csv\"\n",
    "THISYEAR = 2022"
   ]
  },
  {
   "cell_type": "code",
   "execution_count": null,
   "id": "fc723d69",
   "metadata": {},
   "outputs": [],
   "source": [
    "# Load the list of MPs\n",
    "\n",
    "dfp = pd.read_csv(INPATH_MP)\n",
    "dfp.rename(columns={'Unnamed: 0.1':'ID'}, inplace=True)\n",
    "\n",
    "\n",
    "# Load the votes\n",
    "\n",
    "dfv = pd.read_csv(INPATH_VOTES)"
   ]
  },
  {
   "cell_type": "code",
   "execution_count": null,
   "id": "0dc41257",
   "metadata": {},
   "outputs": [],
   "source": [
    "# Auxiliary function\n",
    "\n",
    "def extract_age(dataframe, age_list, mask=None):\n",
    "    \"\"\"\n",
    "    Inputs:\n",
    "        dataframe: panda dataframe of parlementaires.csv\n",
    "        age_list: 2D list with age range (age not year): [range index][lower limit, upper limit]\n",
    "        mask: preprocess dataframe by taking only indices defined by mask\n",
    "    Output:\n",
    "        numOfPOI: list of Parlementaire Of Interest corresponding to age_list\n",
    "    \"\"\"\n",
    "    \n",
    "    if(mask): # if there was a mask provided to the function then apply it\n",
    "        dataframe = dataframe.loc[mask]\n",
    "\n",
    "    dataframe['birthDate'] = pd.to_datetime(dataframe['birthDate']) # convert birthdate into datetime format\n",
    "\n",
    "    current_year = THISYEAR\n",
    "    numOfPOI = []\n",
    "    for range in age_list:\n",
    "        upper_limit = current_year - range[0]\n",
    "        lower_limit = current_year - range[1]\n",
    "        df_age = dataframe.loc[(dataframe['birthDate'].dt.year > lower_limit) & (dataframe['birthDate'].dt.year<upper_limit)]\n",
    "        ID_list = df_age[\"ID\"].astype(str).values.tolist()\n",
    "        #ID_list = [ID_string + \".0\" for ID_string in ID_list]\n",
    "        numOfPOI.append(ID_list)\n",
    "        \n",
    "    return numOfPOI"
   ]
  },
  {
   "cell_type": "code",
   "execution_count": null,
   "id": "31371bf0",
   "metadata": {},
   "outputs": [],
   "source": [
    "# Separate the MPs by age ranges\n",
    "\n",
    "age_list = [[0,40],[40,50],[50,60],[60,70],[70,120]]\n",
    "mp_id_by_age = extract_age(dfp, age_list, mask=None)\n",
    "\n",
    "\n",
    "# \n",
    "dfv_ages = list()\n",
    "for i, ages in enumerate(mp_id_by_age):\n",
    "    other_ages = sum(mp_id_by_age[:i-1], []) + sum(mp_id_by_age[i+1:], [])\n",
    "    dfv_age = dfv.drop(other_ages, axis=1) \n",
    "    dfv_ages.append(dfv_age)"
   ]
  },
  {
   "cell_type": "markdown",
   "id": "1a9a3da0",
   "metadata": {},
   "source": [
    "## Rice index of young MPs"
   ]
  },
  {
   "cell_type": "code",
   "execution_count": null,
   "id": "9d076cf0",
   "metadata": {},
   "outputs": [],
   "source": [
    "# Auxiliary functions\n",
    "    \n",
    "def count(string, row):\n",
    "    \"\"\" Count the number of occurrences of `string` in the row \"\"\"\n",
    "    \n",
    "    if string in row.value_counts():\n",
    "        return row.value_counts()[string]\n",
    "    else:\n",
    "        return 0\n",
    "\n",
    "\n",
    "def rice_index(row):\n",
    "    \"\"\" Compute the Rice index of the row \"\"\"\n",
    "    \n",
    "    row_young = []\n",
    "    \n",
    "    count_yes = count('Oui', row)\n",
    "    count_no = count('Non', row)\n",
    "    return abs(count_yes - count_no) / (count_yes + count_no)"
   ]
  },
  {
   "cell_type": "markdown",
   "id": "281226fa",
   "metadata": {},
   "source": [
    "### Compute the relative Rice index of young MPs (young_RI / total_RI)\n"
   ]
  },
  {
   "cell_type": "code",
   "execution_count": null,
   "id": "67e45f07",
   "metadata": {},
   "outputs": [],
   "source": [
    "# First compute the Rice index for each vote, without any age distinction\n",
    "\n",
    "rice_indices_all_ages = dfv.apply(lambda row: rice_index(row), axis=1)\n",
    "\n",
    "\n",
    "# Compute the relative Rice index for each vote and each age class\n",
    "\n",
    "for i, votes_age in enumerate(dfv_ages):    \n",
    "    votes_age = votes_age.copy()\n",
    "    rice_indices_ages = votes_age.apply(lambda row: rice_index(row), axis=1) / rice_indices_all_ages\n",
    "    votes_age.insert(0, f'Relative Rice index by age (range {i})', rice_indices_ages)\n",
    "    votes_age.sort_values(f'Relative Rice index by age (range {i})')\n",
    "    votes_age.to_csv(f\"../processed_data/relative_RI_age_range_{i}.csv\")"
   ]
  }
 ],
 "metadata": {
  "kernelspec": {
   "display_name": "Python 3 (ipykernel)",
   "language": "python",
   "name": "python3"
  },
  "language_info": {
   "codemirror_mode": {
    "name": "ipython",
    "version": 3
   },
   "file_extension": ".py",
   "mimetype": "text/x-python",
   "name": "python",
   "nbconvert_exporter": "python",
   "pygments_lexer": "ipython3",
   "version": "3.9.7"
  }
 },
 "nbformat": 4,
 "nbformat_minor": 5
}
